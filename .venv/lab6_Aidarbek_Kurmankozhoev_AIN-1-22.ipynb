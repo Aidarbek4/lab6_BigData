{
 "cells": [
  {
   "metadata": {},
   "cell_type": "markdown",
   "source": "### 2.\tИспользуя один из подходящих игрушечных датасетов (breast_canser, digits, diabetes …) применить алгоритмы улучшения качества и оценки моделей (перекрестная проверка, решетчатый поиск, метрики модели)",
   "id": "c005abd6de3472a2"
  },
  {
   "cell_type": "code",
   "id": "initial_id",
   "metadata": {
    "collapsed": true,
    "ExecuteTime": {
     "end_time": "2024-12-08T12:39:47.862436Z",
     "start_time": "2024-12-08T12:39:47.031948Z"
    }
   },
   "source": [
    "import pandas as pd\n",
    "import numpy as np\n",
    "from sklearn.datasets import load_breast_cancer\n",
    "from sklearn.model_selection import train_test_split, cross_val_score\n",
    "from sklearn.ensemble import RandomForestClassifier\n",
    "from sklearn.metrics import accuracy_score\n",
    "\n",
    "# Загрузка данных\n",
    "data = load_breast_cancer()\n",
    "X, y = data.data, data.target\n",
    "X_train, X_test, y_train, y_test = train_test_split(X, y, test_size=0.2, random_state=42)\n",
    "\n",
    "# Создание и обучение модели\n",
    "model = RandomForestClassifier(random_state=42)\n",
    "model.fit(X_train, y_train)\n",
    "\n",
    "# Предсказание и вычисление точности\n",
    "y_pred = model.predict(X_test)\n",
    "initial_accuracy = accuracy_score(y_test, y_pred)\n",
    "\n",
    "# Перекрестная проверка\n",
    "cv_scores = cross_val_score(model, X_train, y_train, cv=5)\n",
    "\n",
    "# Вывод результатов\n",
    "print(f\"Точность модели на тестовой выборке: {initial_accuracy:.4f}\")\n",
    "print(f\"Средняя точность перекрестной проверки: {cv_scores.mean():.4f}\")\n",
    "print(f\"Стандартное отклонение точности перекрестной проверки: {cv_scores.std():.4f}\")"
   ],
   "outputs": [
    {
     "name": "stdout",
     "output_type": "stream",
     "text": [
      "Точность модели на тестовой выборке: 0.9649\n",
      "Средняя точность перекрестной проверки: 0.9582\n",
      "Стандартное отклонение точности перекрестной проверки: 0.0176\n"
     ]
    }
   ],
   "execution_count": 3
  },
  {
   "metadata": {},
   "cell_type": "markdown",
   "source": "#### Использование решетчатого поиска для настройки гиперпараметров модели",
   "id": "d1963bb0f52be3c3"
  },
  {
   "metadata": {
    "ExecuteTime": {
     "end_time": "2024-12-08T12:44:28.117573Z",
     "start_time": "2024-12-08T12:44:21.145942Z"
    }
   },
   "cell_type": "code",
   "source": [
    "from sklearn.model_selection import GridSearchCV\n",
    "from sklearn.ensemble import RandomForestClassifier\n",
    "from sklearn.metrics import accuracy_score\n",
    "\n",
    "# Задание параметров для решетчатого поиска\n",
    "param_grid = {\n",
    "    'n_estimators': [50, 100, 200],\n",
    "    'max_depth': [None, 10, 20, 30],\n",
    "    'min_samples_split': [2, 5, 10]\n",
    "}\n",
    "\n",
    "# Настройка решетчатого поиска\n",
    "grid_search = GridSearchCV(estimator=RandomForestClassifier(random_state=42), \n",
    "                           param_grid=param_grid, \n",
    "                           cv=5, \n",
    "                           scoring='accuracy', \n",
    "                           n_jobs=-1)\n",
    "\n",
    "# Поиск оптимальных параметров\n",
    "grid_search.fit(X_train, y_train)\n",
    "\n",
    "# Получение лучших параметров и модели\n",
    "best_model = grid_search.best_estimator_\n",
    "best_params = grid_search.best_params_\n",
    "best_score = grid_search.best_score_\n",
    "\n",
    "# Оценка на тестовой выборке\n",
    "best_y_pred = best_model.predict(X_test)\n",
    "best_accuracy = accuracy_score(y_test, best_y_pred)\n",
    "\n",
    "# Вывод результатов\n",
    "print(\"Лучшие параметры модели (best_params):\", best_params)\n",
    "print(f\"Лучшая средняя точность на обучении (best_score): {best_score:.4f}\")\n",
    "print(f\"Точность на тестовой выборке с оптимальными параметрами (best_accuracy): {best_accuracy:.4f}\")"
   ],
   "id": "9f264932e4a4fba5",
   "outputs": [
    {
     "name": "stdout",
     "output_type": "stream",
     "text": [
      "Лучшие параметры модели (best_params): {'max_depth': None, 'min_samples_split': 2, 'n_estimators': 200}\n",
      "Лучшая средняя точность на обучении (best_score): 0.9626\n",
      "Точность на тестовой выборке с оптимальными параметрами (best_accuracy): 0.9649\n"
     ]
    }
   ],
   "execution_count": 5
  },
  {
   "metadata": {},
   "cell_type": "markdown",
   "source": [
    "<h2>Вывод</h2>\n",
    "<p style=\"font-size: 20px\">\n",
    "    Проведён анализ и обучение модели на датасете `breast_cancer` с использованием классификатора `RandomForestClassifier`. Первичная модель показала точность на тестовой выборке 96.49% и среднюю точность перекрёстной проверки 95.82%. Для улучшения модели был применён решетчатый поиск гиперпараметров (`GridSearchCV`), что позволило достичь точности 96.49% на тестовой выборке. Перекрёстная проверка и оптимизация гиперпараметров повысили качество модели. Методика успешно применима для задач классификации.\n",
    "</p>"
   ],
   "id": "ce6c3d335dc35e5f"
  },
  {
   "metadata": {},
   "cell_type": "markdown",
   "source": "",
   "id": "577316a7535a7089"
  },
  {
   "metadata": {},
   "cell_type": "markdown",
   "source": [
    "### 3. Создать модель классификатор, которая по определенному обучаемому набору (salary, city, age, vacation_prefer, transport_prefer) будет определять предпочтения человека (target), в каком городе провести отпуск.\n",
    "<p>a. Создать свой датасет с категориальными данными (1000 строк), которые содержат следующие поля: (salary, city, age, vacation_prefer, transport_prefer, target). Применить import random (random. choice, random.randint) </p>\n",
    "<p>b. Salary – установить числовой тип (например 50000), city – город проживания (например, Bishkek), age – возраст (например, от 30 до 65), vacation_prefer – тип отдыха (например, Shopping или Beach holiday), transport_prefer – тип транспорта (например, auto, plane), target – город, в котором проведем отпуск (например, London, Moscow)\n",
    "</p>\n",
    "<p>c. Преобразовать категориальные данные в числовые, используя panadas.get_dummies.</p>\n",
    "<p>d. Выделить обучающую выборку и тестовую выборку (X_train, y_train, X-test, y_test)</p>\n",
    "<p>e. Выбрать модель классификатор (например, from sklearn.ensemble import RandomForestClassifier)\n",
    "</p>\n",
    "<p>f. Проверить оценку модели.\n",
    "</p>\n",
    "<p>g. Сделать предсказание на случайных данных.\n",
    "</p>\n",
    "<p>h. Улучшить модель согласно примерам лекций 9-10 и материала лабораторной работы</p>\n"
   ],
   "id": "4f41cf0868c5e0a0"
  },
  {
   "metadata": {
    "ExecuteTime": {
     "end_time": "2024-12-08T13:01:17.416114Z",
     "start_time": "2024-12-08T13:01:17.160734Z"
    }
   },
   "cell_type": "code",
   "source": [
    "import pandas as pd\n",
    "import random\n",
    "from sklearn.model_selection import train_test_split\n",
    "from sklearn.ensemble import RandomForestClassifier\n",
    "from sklearn.metrics import accuracy_score\n",
    "\n",
    "random.seed(42)\n",
    "\n",
    "cities = [\"Bishkek\", \"Almaty\", \"Astana\", \"Tashkent\", \"Dushanbe\"]\n",
    "vacation_types = [\"Shopping\", \"Beach holiday\", \"Hiking\", \"Cultural tour\", \"Cruise\"]\n",
    "transport_types = [\"auto\", \"plane\", \"train\", \"bus\"]\n",
    "targets = [\"London\", \"Moscow\", \"Istanbul\", \"Dubai\", \"Paris\"]\n",
    "\n",
    "data = {\n",
    "    \"salary\": [random.randint(30000, 150000) for _ in range(1000)],\n",
    "    \"city\": [random.choice(cities) for _ in range(1000)],\n",
    "    \"age\": [random.randint(30, 65) for _ in range(1000)],\n",
    "    \"vacation_prefer\": [random.choice(vacation_types) for _ in range(1000)],\n",
    "    \"transport_prefer\": [random.choice(transport_types) for _ in range(1000)],\n",
    "    \"target\": [random.choice(targets) for _ in range(1000)],\n",
    "}\n",
    "\n",
    "\n",
    "df = pd.DataFrame(data)\n",
    "\n",
    "df_encoded = pd.get_dummies(df, columns=[\"city\", \"vacation_prefer\", \"transport_prefer\", \"target\"])\n",
    "\n",
    "X = df_encoded.drop(columns=[col for col in df_encoded.columns if col.startswith(\"target_\")])\n",
    "y = df_encoded[[col for col in df_encoded.columns if col.startswith(\"target_\")]].idxmax(axis=1)\n",
    "\n",
    "X_train, X_test, y_train, y_test = train_test_split(X, y, test_size=0.2, random_state=42)\n",
    "\n",
    "model = RandomForestClassifier(random_state=42)\n",
    "model.fit(X_train, y_train)\n",
    "\n",
    "y_pred = model.predict(X_test)\n",
    "accuracy = accuracy_score(y_test, y_pred)\n",
    "\n",
    "\n",
    "accuracy"
   ],
   "id": "136c1821163fab75",
   "outputs": [
    {
     "data": {
      "text/plain": [
       "0.19"
      ]
     },
     "execution_count": 7,
     "metadata": {},
     "output_type": "execute_result"
    }
   ],
   "execution_count": 7
  },
  {
   "metadata": {
    "ExecuteTime": {
     "end_time": "2024-12-08T13:04:28.383790Z",
     "start_time": "2024-12-08T13:04:28.125039Z"
    }
   },
   "cell_type": "code",
   "source": [
    "# Проверка распределения целевой переменной\n",
    "target_distribution = y.value_counts(normalize=True)\n",
    "\n",
    "# Нормализация числовых данных (Min-Max Scaling)\n",
    "from sklearn.preprocessing import MinMaxScaler\n",
    "\n",
    "scaler = MinMaxScaler()\n",
    "X[[\"salary\", \"age\"]] = scaler.fit_transform(X[[\"salary\", \"age\"]])\n",
    "\n",
    "# Разделение данных заново после нормализации\n",
    "X_train, X_test, y_train, y_test = train_test_split(X, y, test_size=0.2, random_state=42)\n",
    "\n",
    "# Повторное обучение модели после нормализации\n",
    "model.fit(X_train, y_train)\n",
    "y_pred = model.predict(X_test)\n",
    "accuracy_after_normalization = accuracy_score(y_test, y_pred)\n",
    "\n",
    "target_distribution, accuracy_after_normalization"
   ],
   "id": "31195b96238ebfa6",
   "outputs": [
    {
     "data": {
      "text/plain": [
       "(target_Paris       0.213\n",
       " target_Moscow      0.209\n",
       " target_Istanbul    0.205\n",
       " target_Dubai       0.194\n",
       " target_London      0.179\n",
       " Name: proportion, dtype: float64,\n",
       " 0.19)"
      ]
     },
     "execution_count": 9,
     "metadata": {},
     "output_type": "execute_result"
    }
   ],
   "execution_count": 9
  },
  {
   "metadata": {
    "ExecuteTime": {
     "end_time": "2024-12-08T13:07:33.718756Z",
     "start_time": "2024-12-08T13:06:59.918128Z"
    }
   },
   "cell_type": "code",
   "source": [
    "from sklearn.model_selection import GridSearchCV\n",
    "\n",
    "# Определение диапазона гиперпараметров\n",
    "param_grid = {\n",
    "    \"n_estimators\": [50, 100, 200],\n",
    "    \"max_depth\": [None, 10, 20, 30],\n",
    "    \"min_samples_split\": [2, 5, 10],\n",
    "    \"min_samples_leaf\": [1, 2, 4],\n",
    "}\n",
    "\n",
    "# Настройка GridSearchCV\n",
    "grid_search = GridSearchCV(\n",
    "    estimator=RandomForestClassifier(random_state=42),\n",
    "    param_grid=param_grid,\n",
    "    scoring=\"accuracy\",\n",
    "    cv=3,\n",
    "    n_jobs=-1,\n",
    "    verbose=1,\n",
    ")\n",
    "\n",
    "# Обучение модели с подбором гиперпараметров\n",
    "grid_search.fit(X_train, y_train)\n",
    "\n",
    "# Лучшая модель и её точность\n",
    "best_model = grid_search.best_estimator_\n",
    "best_params = grid_search.best_params_\n",
    "y_pred_best = best_model.predict(X_test)\n",
    "accuracy_best = accuracy_score(y_test, y_pred_best)\n",
    "\n",
    "best_params, accuracy_best"
   ],
   "id": "d8b228085b84d6da",
   "outputs": [
    {
     "name": "stdout",
     "output_type": "stream",
     "text": [
      "Fitting 3 folds for each of 108 candidates, totalling 324 fits\n"
     ]
    },
    {
     "data": {
      "text/plain": [
       "({'max_depth': 10,\n",
       "  'min_samples_leaf': 1,\n",
       "  'min_samples_split': 2,\n",
       "  'n_estimators': 50},\n",
       " 0.18)"
      ]
     },
     "execution_count": 10,
     "metadata": {},
     "output_type": "execute_result"
    }
   ],
   "execution_count": 10
  },
  {
   "metadata": {},
   "cell_type": "markdown",
   "source": [
    "Низкая обучаемость модели связана с тем, что данные, которые мы создали, полностью случайны и не имеют логической связи между признаками (доход, возраст, предпочтения) и целевой переменной (город для отпуска). В реальной жизни выбор города для отдыха определяется многими факторами, которые сложно учесть в случайно сгенерированных данных.\n",
    "\n",
    "Модель просто не видит закономерностей, потому что их нет — каждый пример в данных выглядит для нее как случайный шум. Чтобы модель могла \"учиться\", ей нужны данные, которые содержат осмысленные зависимости и отражают реальные предпочтения людей.\n",
    "\n",
    "Для улучшения можно:\n",
    "\n",
    "Сформировать данные, где целевой город действительно зависит от зарплаты, возраста и предпочтений.\n",
    "Добавить больше строк и признаков, чтобы модель смогла выявить связи.\n",
    "Использовать сложные модели или настройки, которые лучше подходят для обнаружения скрытых закономерностей.\n",
    "\n",
    "Таким образом, проблема не столько в модели, сколько в качестве и структуре данных."
   ],
   "id": "16c32c5336baa0b2"
  }
 ],
 "metadata": {
  "kernelspec": {
   "display_name": "Python 3",
   "language": "python",
   "name": "python3"
  },
  "language_info": {
   "codemirror_mode": {
    "name": "ipython",
    "version": 2
   },
   "file_extension": ".py",
   "mimetype": "text/x-python",
   "name": "python",
   "nbconvert_exporter": "python",
   "pygments_lexer": "ipython2",
   "version": "2.7.6"
  }
 },
 "nbformat": 4,
 "nbformat_minor": 5
}
